{
 "metadata": {
  "language_info": {
   "codemirror_mode": {
    "name": "ipython",
    "version": 3
   },
   "file_extension": ".py",
   "mimetype": "text/x-python",
   "name": "python",
   "nbconvert_exporter": "python",
   "pygments_lexer": "ipython3",
   "version": "3.8.3"
  },
  "orig_nbformat": 4,
  "kernelspec": {
   "name": "python3",
   "display_name": "Python 3.8.3 64-bit ('py38': conda)"
  },
  "interpreter": {
   "hash": "ade2cdbb61d6d6a9a561e60673a5f2bb26b21ac86f969c974aa0ed3f047d0a5b"
  }
 },
 "nbformat": 4,
 "nbformat_minor": 2,
 "cells": [
  {
   "source": [
    "## Send an SMS with Python in a Jupyter Notebook\n",
    "\n",
    "TODO: Finish up the header docs\n"
   ],
   "cell_type": "markdown",
   "metadata": {}
  },
  {
   "cell_type": "code",
   "execution_count": null,
   "metadata": {},
   "outputs": [],
   "source": [
    "#We will install the dependencies delineated in requirements.txt\n",
    "!pip install -r requirements.txt"
   ]
  },
  {
   "source": [
    "RESOURCE_GROUP=\"<RESOURCE_GROUP_NAME>\"\n",
    "SUBSCRIPTION_ID=\"<SUBSCRIPTION_ID_GUID>\"\n",
    "AZCOMMS_RESOURCE=\"<ACS_RESOURCE_NAME>\"\n",
    "\n",
    "#Because `az communication` is an extension, we avoid \n",
    "!az config set extension.use_dynamic_install=yes_without_prompt\n",
    "\n",
    "#Let's create some Azure resources\n",
    "!az group create --name {RESOURCE_GROUP} --location westus2 --subscription={SUBSCRIPTION_ID}\n",
    "!az communication create --name {AZCOMMS_RESOURCE} --location \"Global\" --data-location \"United States\" --resource-group {RESOURCE_GROUP}\n",
    "!az communication list --resource-group {RESOURCE_GROUP}\n"
   ],
   "cell_type": "code",
   "metadata": {},
   "execution_count": null,
   "outputs": []
  },
  {
   "source": [
    "### Find your Connection String and Phone Number\n",
    "\n",
    "In in order to leverage the ACS SMS service, you'll need to find your connection string. You can do that by going to the [Azure Portal](https://portal.azure.com) and navigating to the service that we created in the script above.\n",
    "\n",
    "<p align=\"center\">\n",
    "  <img width=\"400\" src=\"acs_get_key.jpg\">\n",
    "</p>\n"
   ],
   "cell_type": "markdown",
   "metadata": {}
  },
  {
   "cell_type": "code",
   "execution_count": null,
   "metadata": {},
   "outputs": [],
   "source": [
    "import os\n",
    "import json\n",
    "from azure.communication.sms import SmsClient\n",
    "\n",
    "#Navigate to the Azure Portal and Look at the Keys Foldre\n",
    "CONNECTION_STRING=\"\"\"<ACS_CONNECTION_STRING>\"\"\"\n",
    "\n",
    "try:\n",
    "    sms_client = SmsClient.from_connection_string(CONNECTION_STRING)\n",
    "\n",
    "    from_phone_number=\"<FROM_PHONE_NUMBER>\"\n",
    "    to_phone_number=\"<TO_PHONE_NUMBER>\"\n",
    "\n",
    "    # calling send() with sms values\n",
    "    sms_responses = sms_client.send(\n",
    "        from_=from_phone_number,\n",
    "        to=to_phone_number, #Grab your ACS phone number in the Azure Portal > ACS Resource > Tools > Phone Number\n",
    "        message=\"Hello world from Azure Communications Service ❤️\",\n",
    "        enable_delivery_report=True, # optional property\n",
    "        tag=\"hello-acs\") # optional property\n",
    "\n",
    "    if sms_responses:\n",
    "        # Print and make sms_responses serializable\n",
    "        print(json.dumps(\n",
    "            sms_responses, indent=4, default=lambda x: x.__dict__\n",
    "        ))\n",
    "except Exception as ex:\n",
    "    print('Exception:')\n",
    "    print(ex)"
   ]
  },
  {
   "cell_type": "code",
   "execution_count": null,
   "metadata": {},
   "outputs": [],
   "source": [
    "\n"
   ]
  }
 ]
}